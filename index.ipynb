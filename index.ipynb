{
 "cells": [
  {
   "cell_type": "markdown",
   "metadata": {},
   "source": [
    "# Measures of Central Tendency - Quiz\n",
    "\n",
    "## Objectives\n",
    "You will be able to:\n",
    "* Understand and describe the significance of measuring central tendency of continuous data\n",
    "* Understand the formula and intuition behind the mean, median, mode and modal class\n",
    "* Compare mean-median-mode, along with histograms to explain the central tendency of given data"
   ]
  },
  {
   "cell_type": "markdown",
   "metadata": {},
   "source": [
    "**Note, for these exercises, you do not need to write code to answer them - we'll do that later. Just do them by hand or with a calculator to make sure you're comfortable with the process of calculating the answers!**\n",
    "\n",
    "### Exercise 1\n",
    "Calculate the mean, median and mode for this data set: \n",
    "```\n",
    "19, 18, 21, 16, 15, 17, 20, 18\n",
    "```\n",
    "While comparing the results of three measures, comment about this distribution. "
   ]
  },
  {
   "cell_type": "code",
   "execution_count": 36,
   "metadata": {},
   "outputs": [],
   "source": [
    "def mean(data):\n",
    "    return sum(data)/len(data)\n",
    "\n",
    "def median(data):\n",
    "    data = sorted(data)\n",
    "    length = len(data)\n",
    "    if length%2==0:\n",
    "        midpoint = int(length/2)-1\n",
    "        return sum(data[midpoint:midpoint+2])/2\n",
    "    else:\n",
    "        midpoint = int(length/2)-1\n",
    "        return data[midpoint]\n",
    "\n",
    "def mode(data):\n",
    "    mode_dict = {}\n",
    "    for i in data:\n",
    "        mode_dict[i] = mode_dict.get(i, 0) + 1\n",
    "    return max(mode_dict, key=mode_dict.get)"
   ]
  },
  {
   "cell_type": "code",
   "execution_count": 37,
   "metadata": {},
   "outputs": [
    {
     "name": "stdout",
     "output_type": "stream",
     "text": [
      "Mean: 18.0\n",
      "Median: 18.0\n",
      "Mode: 18\n"
     ]
    }
   ],
   "source": [
    "data1 = [19,18,21,16,15,17,20,18]\n",
    "\n",
    "mean1 = mean(data1)\n",
    "median1 = median(data1)\n",
    "mode1 = mode(data1)\n",
    "\n",
    "print('Mean:', mean1)\n",
    "print('Median:', median1)\n",
    "print('Mode:', mode1)"
   ]
  },
  {
   "cell_type": "markdown",
   "metadata": {},
   "source": [
    "### Exercise 2\n",
    "\n",
    "Calculate the mean, median and mode for given distribution and state which of these measures does not describe the \"middle\" of this data set? and why ?\n",
    "```\n",
    "100, 99, 97, 97, 96, 98, 95, 72\n",
    "```"
   ]
  },
  {
   "cell_type": "code",
   "execution_count": 38,
   "metadata": {},
   "outputs": [
    {
     "name": "stdout",
     "output_type": "stream",
     "text": [
      "Mean: 94.25\n",
      "Median: 97.0\n",
      "Mode: 97\n"
     ]
    }
   ],
   "source": [
    "data2 = [100, 99, 97, 97, 96, 98, 95, 72]\n",
    "\n",
    "mean2 = mean(data2)\n",
    "median2 = median(data2)\n",
    "mode2 = mode(data2)\n",
    "\n",
    "print('Mean:', mean2)\n",
    "print('Median:', median2)\n",
    "print('Mode:', mode2)"
   ]
  },
  {
   "cell_type": "markdown",
   "metadata": {},
   "source": [
    "### Exercise 3\n",
    "On the first three days of his bookshop opening, Joe sold 15, 18, and 16 books (He initially hoped that he would sell 17 books every day).  How many books does he need to sell on the next day to have a mean sale of 17?"
   ]
  },
  {
   "cell_type": "code",
   "execution_count": 41,
   "metadata": {},
   "outputs": [
    {
     "data": {
      "text/plain": [
       "19"
      ]
     },
     "execution_count": 41,
     "metadata": {},
     "output_type": "execute_result"
    }
   ],
   "source": [
    "books_needed_to_sell = (17*4)-15-18-16\n",
    "books_needed_to_sell"
   ]
  },
  {
   "cell_type": "markdown",
   "metadata": {},
   "source": [
    "### Exercise 4\n",
    "The histograms show the amount of time (hours per day) spent on Facebook by 46 middle school girls and 40 middle school boys from a school in San Francisco. A total of 50 boys and 50 girls took the survey, 4 girls and 10 boys did not use Facebook at all. \n",
    "Each is graphed with a bin width of 0.25 hours.\n",
    "\n",
    "![](boys.png)\n",
    "![](girls.png)\n",
    "\n",
    "Looking at these histograms, answer following questions. \n",
    "\n",
    "*Hint: For most parts, you will have to figure out the location of required bins and count the frequencies. *\n",
    "\n",
    "#### How many boys spend more than 1.5 hours/day on Facebook?\n"
   ]
  },
  {
   "cell_type": "code",
   "execution_count": 42,
   "metadata": {},
   "outputs": [
    {
     "data": {
      "text/plain": [
       "8"
      ]
     },
     "execution_count": 42,
     "metadata": {},
     "output_type": "execute_result"
    }
   ],
   "source": [
    "8"
   ]
  },
  {
   "cell_type": "markdown",
   "metadata": {},
   "source": [
    "#### Compare the percentage of boys and girls that spend more than zero but less than 1 hour/day on Facebook."
   ]
  },
  {
   "cell_type": "code",
   "execution_count": 45,
   "metadata": {},
   "outputs": [],
   "source": [
    "#boys_pct = 20/40 = 0.5\n",
    "#girls_pct = 10/46 = 0.22"
   ]
  },
  {
   "cell_type": "markdown",
   "metadata": {},
   "source": [
    "#### Find the bin where the median of the boys' data set lies."
   ]
  },
  {
   "cell_type": "code",
   "execution_count": 11,
   "metadata": {},
   "outputs": [],
   "source": [
    "# 0.75-1"
   ]
  },
  {
   "cell_type": "markdown",
   "metadata": {},
   "source": [
    "#### In terms of Facebook usage times based on given data, what can you conclude about usage habits of boys and girls?"
   ]
  },
  {
   "cell_type": "code",
   "execution_count": 12,
   "metadata": {},
   "outputs": [],
   "source": [
    "# girls spend more time on FB and have a larger variation "
   ]
  }
 ],
 "metadata": {
  "kernelspec": {
   "display_name": "Python 3",
   "language": "python",
   "name": "python3"
  },
  "language_info": {
   "codemirror_mode": {
    "name": "ipython",
    "version": 3
   },
   "file_extension": ".py",
   "mimetype": "text/x-python",
   "name": "python",
   "nbconvert_exporter": "python",
   "pygments_lexer": "ipython3",
   "version": "3.6.6"
  }
 },
 "nbformat": 4,
 "nbformat_minor": 2
}
